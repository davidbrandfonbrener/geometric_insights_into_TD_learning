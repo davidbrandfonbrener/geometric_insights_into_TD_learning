{
 "cells": [
  {
   "cell_type": "code",
   "execution_count": 1,
   "metadata": {},
   "outputs": [],
   "source": [
    "import numpy as np\n",
    "from matplotlib import pyplot as plt\n",
    "%matplotlib inline"
   ]
  },
  {
   "cell_type": "code",
   "execution_count": null,
   "metadata": {},
   "outputs": [],
   "source": [
    "f = np.load(\"../outputs/data/nn_init/k_1_n_50_mlp_depth_1_width_6_online_False.npz\")"
   ]
  },
  {
   "cell_type": "code",
   "execution_count": null,
   "metadata": {},
   "outputs": [],
   "source": [
    "tabular_Vs = f[\"tabular_Vs\"]\n",
    "mlp_Vs = f[\"mlp_Vs\"]\n",
    "condition_numbers = f[\"condition_numbers\"]\n",
    "bound = f[\"bound\"]\n",
    "smoothness = f[\"smoothness\"]\n",
    "seeds = f[\"seeds\"]"
   ]
  },
  {
   "cell_type": "code",
   "execution_count": null,
   "metadata": {},
   "outputs": [],
   "source": [
    "n = seeds.shape[0]\n",
    "\n",
    "plt.plot(tabular_Vs[0, :], color = 'k', label = \"tabular\")\n",
    "\n",
    "colors = plt.cm.jet(np.linspace(0.2,0.8,n))\n",
    "for i in range(mlp_Vs.shape[0]):\n",
    "    plt.plot(mlp_Vs[i, :], color = colors[i], label = \"%.2f\" % seeds[i])\n",
    "#plt.legend(\"seed\")\n",
    "plt.title(\"Neural Net\")\n",
    "plt.show()"
   ]
  },
  {
   "cell_type": "code",
   "execution_count": null,
   "metadata": {},
   "outputs": [],
   "source": [
    "plt.plot(tabular_Vs[0, :], color = 'k', label = \"tabular\")\n",
    "\n",
    "meanV = np.mean(mlp_Vs, axis = 0)\n",
    "stdV = np.std(mlp_Vs, axis = 0)\n",
    "\n",
    "plt.errorbar(range(meanV.shape[0], meanV, yerr = stdV, color = \"blue\", label= \"mlp\", alpha = 0.5,)"
   ]
  }
 ],
 "metadata": {
  "kernelspec": {
   "display_name": "Python 3",
   "language": "python",
   "name": "python3"
  },
  "language_info": {
   "codemirror_mode": {
    "name": "ipython",
    "version": 3
   },
   "file_extension": ".py",
   "mimetype": "text/x-python",
   "name": "python",
   "nbconvert_exporter": "python",
   "pygments_lexer": "ipython3",
   "version": "3.6.5"
  }
 },
 "nbformat": 4,
 "nbformat_minor": 2
}
